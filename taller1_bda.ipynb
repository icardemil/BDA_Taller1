{
  "nbformat": 4,
  "nbformat_minor": 0,
  "metadata": {
    "colab": {
      "name": "taller1_bda.ipynb",
      "provenance": [],
      "toc_visible": true,
      "authorship_tag": "ABX9TyM2NgJLD+npWJb24qvff1tv",
      "include_colab_link": true
    },
    "kernelspec": {
      "name": "python3",
      "display_name": "Python 3"
    },
    "language_info": {
      "name": "python"
    }
  },
  "cells": [
    {
      "cell_type": "markdown",
      "metadata": {
        "id": "view-in-github",
        "colab_type": "text"
      },
      "source": [
        "<a href=\"https://colab.research.google.com/github/icardemil64/BDA_Taller1/blob/main/taller1_bda.ipynb\" target=\"_parent\"><img src=\"https://colab.research.google.com/assets/colab-badge.svg\" alt=\"Open In Colab\"/></a>"
      ]
    },
    {
      "cell_type": "markdown",
      "metadata": {
        "id": "ynocUE_czmaV"
      },
      "source": [
        "#Descripción\n",
        "El siguiente script tiene como objetivo obtener los datos relevantes del archivo CSV sobre muertes por sobredosis de drogas. Esto será útil para realizar un proceso de limpieza antes de cargar toda la información en la base de datos.\\\n",
        "Fuente de datos: [Drug overdose deaths](https://www.kaggle.com/ruchi798/drug-overdose-deaths)."
      ]
    },
    {
      "cell_type": "markdown",
      "metadata": {
        "id": "lvVowmDv0E_R"
      },
      "source": [
        "##Importar librerías"
      ]
    },
    {
      "cell_type": "code",
      "metadata": {
        "id": "qI3C5Wiezamy"
      },
      "source": [
        "import pandas as pd"
      ],
      "execution_count": 1,
      "outputs": []
    },
    {
      "cell_type": "markdown",
      "metadata": {
        "id": "AOrYmlt80W6Z"
      },
      "source": [
        "##Importar datos"
      ]
    },
    {
      "cell_type": "code",
      "metadata": {
        "colab": {
          "base_uri": "https://localhost:8080/"
        },
        "id": "0jpMkSDy0Zuz",
        "outputId": "06342626-e890-4d3a-efe4-c152f145fbe2"
      },
      "source": [
        "from google.colab import drive\n",
        "drive.mount('/content/drive')"
      ],
      "execution_count": 2,
      "outputs": [
        {
          "output_type": "stream",
          "name": "stdout",
          "text": [
            "Mounted at /content/drive\n"
          ]
        }
      ]
    },
    {
      "cell_type": "code",
      "metadata": {
        "id": "efLywnFF07XH"
      },
      "source": [
        "df_muertes = pd.read_csv(\"drive/My Drive/Colab Notebooks/BDA/drug_deaths.csv\")"
      ],
      "execution_count": 123,
      "outputs": []
    },
    {
      "cell_type": "markdown",
      "metadata": {
        "id": "gTV4oH-x02eU"
      },
      "source": [
        "##Información de muertes"
      ]
    },
    {
      "cell_type": "code",
      "metadata": {
        "id": "AUb3iPDb3KB6"
      },
      "source": [
        "pd.set_option('display.max_columns', None)"
      ],
      "execution_count": 124,
      "outputs": []
    },
    {
      "cell_type": "code",
      "metadata": {
        "colab": {
          "base_uri": "https://localhost:8080/",
          "height": 408
        },
        "id": "or7mlVNp05Te",
        "outputId": "cad5c6d5-51c5-40aa-abac-31b15ada72f1"
      },
      "source": [
        "df_muertes.head()"
      ],
      "execution_count": 126,
      "outputs": [
        {
          "output_type": "execute_result",
          "data": {
            "text/html": [
              "<div>\n",
              "<style scoped>\n",
              "    .dataframe tbody tr th:only-of-type {\n",
              "        vertical-align: middle;\n",
              "    }\n",
              "\n",
              "    .dataframe tbody tr th {\n",
              "        vertical-align: top;\n",
              "    }\n",
              "\n",
              "    .dataframe thead th {\n",
              "        text-align: right;\n",
              "    }\n",
              "</style>\n",
              "<table border=\"1\" class=\"dataframe\">\n",
              "  <thead>\n",
              "    <tr style=\"text-align: right;\">\n",
              "      <th></th>\n",
              "      <th>Unnamed: 0</th>\n",
              "      <th>ID</th>\n",
              "      <th>Date</th>\n",
              "      <th>DateType</th>\n",
              "      <th>Age</th>\n",
              "      <th>Sex</th>\n",
              "      <th>Race</th>\n",
              "      <th>ResidenceCity</th>\n",
              "      <th>ResidenceCounty</th>\n",
              "      <th>ResidenceState</th>\n",
              "      <th>DeathCity</th>\n",
              "      <th>DeathCounty</th>\n",
              "      <th>Location</th>\n",
              "      <th>LocationifOther</th>\n",
              "      <th>DescriptionofInjury</th>\n",
              "      <th>InjuryPlace</th>\n",
              "      <th>InjuryCity</th>\n",
              "      <th>InjuryCounty</th>\n",
              "      <th>InjuryState</th>\n",
              "      <th>COD</th>\n",
              "      <th>OtherSignifican</th>\n",
              "      <th>Heroin</th>\n",
              "      <th>Cocaine</th>\n",
              "      <th>Fentanyl</th>\n",
              "      <th>Fentanyl_Analogue</th>\n",
              "      <th>Oxycodone</th>\n",
              "      <th>Oxymorphone</th>\n",
              "      <th>Ethanol</th>\n",
              "      <th>Hydrocodone</th>\n",
              "      <th>Benzodiazepine</th>\n",
              "      <th>Methadone</th>\n",
              "      <th>Amphet</th>\n",
              "      <th>Tramad</th>\n",
              "      <th>Morphine_NotHeroin</th>\n",
              "      <th>Hydromorphone</th>\n",
              "      <th>Other</th>\n",
              "      <th>OpiateNOS</th>\n",
              "      <th>AnyOpioid</th>\n",
              "      <th>MannerofDeath</th>\n",
              "      <th>DeathCityGeo</th>\n",
              "      <th>ResidenceCityGeo</th>\n",
              "      <th>InjuryCityGeo</th>\n",
              "    </tr>\n",
              "  </thead>\n",
              "  <tbody>\n",
              "    <tr>\n",
              "      <th>0</th>\n",
              "      <td>0</td>\n",
              "      <td>14-0273</td>\n",
              "      <td>06/28/2014 12:00:00 AM</td>\n",
              "      <td>1.0</td>\n",
              "      <td>NaN</td>\n",
              "      <td>NaN</td>\n",
              "      <td>NaN</td>\n",
              "      <td>NaN</td>\n",
              "      <td>NaN</td>\n",
              "      <td>NaN</td>\n",
              "      <td>NaN</td>\n",
              "      <td>NaN</td>\n",
              "      <td>NaN</td>\n",
              "      <td>NaN</td>\n",
              "      <td>substance</td>\n",
              "      <td>NaN</td>\n",
              "      <td>NaN</td>\n",
              "      <td>NaN</td>\n",
              "      <td>NaN</td>\n",
              "      <td>Acute fent, hydrocod, benzodiazepine</td>\n",
              "      <td>NaN</td>\n",
              "      <td>0</td>\n",
              "      <td>0</td>\n",
              "      <td>1</td>\n",
              "      <td>0.0</td>\n",
              "      <td>0</td>\n",
              "      <td>0</td>\n",
              "      <td>0</td>\n",
              "      <td>1</td>\n",
              "      <td>1</td>\n",
              "      <td>0</td>\n",
              "      <td>0</td>\n",
              "      <td>0</td>\n",
              "      <td>0</td>\n",
              "      <td>0</td>\n",
              "      <td>NaN</td>\n",
              "      <td>0</td>\n",
              "      <td>0</td>\n",
              "      <td>Accident</td>\n",
              "      <td>CT\\n(41.575155, -72.738288)</td>\n",
              "      <td>CT\\n(41.575155, -72.738288)</td>\n",
              "      <td>CT\\n(41.575155, -72.738288)</td>\n",
              "    </tr>\n",
              "    <tr>\n",
              "      <th>1</th>\n",
              "      <td>1</td>\n",
              "      <td>13-0102</td>\n",
              "      <td>03/21/2013 12:00:00 AM</td>\n",
              "      <td>0.0</td>\n",
              "      <td>48.0</td>\n",
              "      <td>Male</td>\n",
              "      <td>Black</td>\n",
              "      <td>NORWALK</td>\n",
              "      <td>NaN</td>\n",
              "      <td>NaN</td>\n",
              "      <td>NORWALK</td>\n",
              "      <td>FAIRFIELD</td>\n",
              "      <td>Hospital</td>\n",
              "      <td>NaN</td>\n",
              "      <td>NaN</td>\n",
              "      <td>NaN</td>\n",
              "      <td>NaN</td>\n",
              "      <td>NaN</td>\n",
              "      <td>NaN</td>\n",
              "      <td>Cocaine Intoxication</td>\n",
              "      <td>NaN</td>\n",
              "      <td>0</td>\n",
              "      <td>1</td>\n",
              "      <td>0</td>\n",
              "      <td>0.0</td>\n",
              "      <td>0</td>\n",
              "      <td>0</td>\n",
              "      <td>0</td>\n",
              "      <td>0</td>\n",
              "      <td>0</td>\n",
              "      <td>0</td>\n",
              "      <td>0</td>\n",
              "      <td>0</td>\n",
              "      <td>0</td>\n",
              "      <td>0</td>\n",
              "      <td>NaN</td>\n",
              "      <td>0</td>\n",
              "      <td>0</td>\n",
              "      <td>Accident</td>\n",
              "      <td>Norwalk, CT\\n(41.11805, -73.412906)</td>\n",
              "      <td>NORWALK, CT\\n(41.11805, -73.412906)</td>\n",
              "      <td>CT\\n(41.575155, -72.738288)</td>\n",
              "    </tr>\n",
              "    <tr>\n",
              "      <th>2</th>\n",
              "      <td>2</td>\n",
              "      <td>16-0165</td>\n",
              "      <td>03/13/2016 12:00:00 AM</td>\n",
              "      <td>0.0</td>\n",
              "      <td>30.0</td>\n",
              "      <td>Female</td>\n",
              "      <td>White</td>\n",
              "      <td>SANDY HOOK</td>\n",
              "      <td>FAIRFIELD</td>\n",
              "      <td>CT</td>\n",
              "      <td>DANBURY</td>\n",
              "      <td>NaN</td>\n",
              "      <td>Hospital</td>\n",
              "      <td>NaN</td>\n",
              "      <td>Substance Abuse</td>\n",
              "      <td>Unknown</td>\n",
              "      <td>UNKNOWN</td>\n",
              "      <td>NaN</td>\n",
              "      <td>NaN</td>\n",
              "      <td>Acute Heroin and Cocaine Intoxication</td>\n",
              "      <td>NaN</td>\n",
              "      <td>1</td>\n",
              "      <td>1</td>\n",
              "      <td>0</td>\n",
              "      <td>0.0</td>\n",
              "      <td>0</td>\n",
              "      <td>0</td>\n",
              "      <td>0</td>\n",
              "      <td>0</td>\n",
              "      <td>0</td>\n",
              "      <td>0</td>\n",
              "      <td>0</td>\n",
              "      <td>0</td>\n",
              "      <td>0</td>\n",
              "      <td>0</td>\n",
              "      <td>NaN</td>\n",
              "      <td>0</td>\n",
              "      <td>1</td>\n",
              "      <td>Accident</td>\n",
              "      <td>Danbury, CT\\n(41.393666, -73.451539)</td>\n",
              "      <td>SANDY HOOK, CT\\n(41.419998, -73.282501)</td>\n",
              "      <td>NaN</td>\n",
              "    </tr>\n",
              "    <tr>\n",
              "      <th>3</th>\n",
              "      <td>3</td>\n",
              "      <td>16-0208</td>\n",
              "      <td>03/31/2016 12:00:00 AM</td>\n",
              "      <td>0.0</td>\n",
              "      <td>23.0</td>\n",
              "      <td>Male</td>\n",
              "      <td>White</td>\n",
              "      <td>RYE</td>\n",
              "      <td>WESTCHESTER</td>\n",
              "      <td>NY</td>\n",
              "      <td>GREENWICH</td>\n",
              "      <td>NaN</td>\n",
              "      <td>Hospital</td>\n",
              "      <td>NaN</td>\n",
              "      <td>substance abuse</td>\n",
              "      <td>Residence</td>\n",
              "      <td>RYE</td>\n",
              "      <td>NaN</td>\n",
              "      <td>NaN</td>\n",
              "      <td>Acute Fentanyl and Morphine Intoxication</td>\n",
              "      <td>NaN</td>\n",
              "      <td>1</td>\n",
              "      <td>0</td>\n",
              "      <td>1</td>\n",
              "      <td>0.0</td>\n",
              "      <td>0</td>\n",
              "      <td>0</td>\n",
              "      <td>0</td>\n",
              "      <td>0</td>\n",
              "      <td>0</td>\n",
              "      <td>0</td>\n",
              "      <td>0</td>\n",
              "      <td>0</td>\n",
              "      <td>0</td>\n",
              "      <td>0</td>\n",
              "      <td>NaN</td>\n",
              "      <td>0</td>\n",
              "      <td>1</td>\n",
              "      <td>Accident</td>\n",
              "      <td>Greenwich, CT\\n(41.026526, -73.628549)</td>\n",
              "      <td>NaN</td>\n",
              "      <td>NaN</td>\n",
              "    </tr>\n",
              "    <tr>\n",
              "      <th>4</th>\n",
              "      <td>4</td>\n",
              "      <td>13-0052</td>\n",
              "      <td>02/13/2013 12:00:00 AM</td>\n",
              "      <td>0.0</td>\n",
              "      <td>22.0</td>\n",
              "      <td>Male</td>\n",
              "      <td>Asian, Other</td>\n",
              "      <td>FLUSHING</td>\n",
              "      <td>QUEENS</td>\n",
              "      <td>NaN</td>\n",
              "      <td>GREENWICH</td>\n",
              "      <td>FAIRFIELD</td>\n",
              "      <td>Hospital</td>\n",
              "      <td>NaN</td>\n",
              "      <td>Transdermal Absorption</td>\n",
              "      <td>Other</td>\n",
              "      <td>NaN</td>\n",
              "      <td>NaN</td>\n",
              "      <td>NaN</td>\n",
              "      <td>Fentanyl Intoxication</td>\n",
              "      <td>NaN</td>\n",
              "      <td>0</td>\n",
              "      <td>0</td>\n",
              "      <td>1</td>\n",
              "      <td>0.0</td>\n",
              "      <td>0</td>\n",
              "      <td>0</td>\n",
              "      <td>0</td>\n",
              "      <td>0</td>\n",
              "      <td>0</td>\n",
              "      <td>0</td>\n",
              "      <td>0</td>\n",
              "      <td>0</td>\n",
              "      <td>0</td>\n",
              "      <td>0</td>\n",
              "      <td>NaN</td>\n",
              "      <td>0</td>\n",
              "      <td>0</td>\n",
              "      <td>Accident</td>\n",
              "      <td>Greenwich, CT\\n(41.026526, -73.628549)</td>\n",
              "      <td>NaN</td>\n",
              "      <td>CT\\n(41.575155, -72.738288)</td>\n",
              "    </tr>\n",
              "  </tbody>\n",
              "</table>\n",
              "</div>"
            ],
            "text/plain": [
              "   Unnamed: 0       ID                    Date  DateType   Age     Sex  \\\n",
              "0           0  14-0273  06/28/2014 12:00:00 AM       1.0   NaN     NaN   \n",
              "1           1  13-0102  03/21/2013 12:00:00 AM       0.0  48.0    Male   \n",
              "2           2  16-0165  03/13/2016 12:00:00 AM       0.0  30.0  Female   \n",
              "3           3  16-0208  03/31/2016 12:00:00 AM       0.0  23.0    Male   \n",
              "4           4  13-0052  02/13/2013 12:00:00 AM       0.0  22.0    Male   \n",
              "\n",
              "           Race ResidenceCity ResidenceCounty ResidenceState  DeathCity  \\\n",
              "0           NaN           NaN             NaN            NaN        NaN   \n",
              "1         Black       NORWALK             NaN            NaN    NORWALK   \n",
              "2         White    SANDY HOOK       FAIRFIELD             CT    DANBURY   \n",
              "3         White           RYE     WESTCHESTER             NY  GREENWICH   \n",
              "4  Asian, Other      FLUSHING          QUEENS            NaN  GREENWICH   \n",
              "\n",
              "  DeathCounty  Location LocationifOther     DescriptionofInjury InjuryPlace  \\\n",
              "0         NaN       NaN             NaN               substance         NaN   \n",
              "1   FAIRFIELD  Hospital             NaN                     NaN         NaN   \n",
              "2         NaN  Hospital             NaN         Substance Abuse     Unknown   \n",
              "3         NaN  Hospital             NaN         substance abuse   Residence   \n",
              "4   FAIRFIELD  Hospital             NaN  Transdermal Absorption       Other   \n",
              "\n",
              "  InjuryCity InjuryCounty InjuryState  \\\n",
              "0        NaN          NaN         NaN   \n",
              "1        NaN          NaN         NaN   \n",
              "2    UNKNOWN          NaN         NaN   \n",
              "3        RYE          NaN         NaN   \n",
              "4        NaN          NaN         NaN   \n",
              "\n",
              "                                        COD OtherSignifican  Heroin  Cocaine  \\\n",
              "0      Acute fent, hydrocod, benzodiazepine             NaN       0        0   \n",
              "1                      Cocaine Intoxication             NaN       0        1   \n",
              "2     Acute Heroin and Cocaine Intoxication             NaN       1        1   \n",
              "3  Acute Fentanyl and Morphine Intoxication             NaN       1        0   \n",
              "4                     Fentanyl Intoxication             NaN       0        0   \n",
              "\n",
              "  Fentanyl  Fentanyl_Analogue  Oxycodone  Oxymorphone  Ethanol  Hydrocodone  \\\n",
              "0        1                0.0          0            0        0            1   \n",
              "1        0                0.0          0            0        0            0   \n",
              "2        0                0.0          0            0        0            0   \n",
              "3        1                0.0          0            0        0            0   \n",
              "4        1                0.0          0            0        0            0   \n",
              "\n",
              "   Benzodiazepine  Methadone  Amphet  Tramad Morphine_NotHeroin  \\\n",
              "0               1          0       0       0                  0   \n",
              "1               0          0       0       0                  0   \n",
              "2               0          0       0       0                  0   \n",
              "3               0          0       0       0                  0   \n",
              "4               0          0       0       0                  0   \n",
              "\n",
              "   Hydromorphone Other  OpiateNOS AnyOpioid MannerofDeath  \\\n",
              "0              0   NaN          0         0      Accident   \n",
              "1              0   NaN          0         0      Accident   \n",
              "2              0   NaN          0         1      Accident   \n",
              "3              0   NaN          0         1      Accident   \n",
              "4              0   NaN          0         0      Accident   \n",
              "\n",
              "                             DeathCityGeo  \\\n",
              "0             CT\\n(41.575155, -72.738288)   \n",
              "1     Norwalk, CT\\n(41.11805, -73.412906)   \n",
              "2    Danbury, CT\\n(41.393666, -73.451539)   \n",
              "3  Greenwich, CT\\n(41.026526, -73.628549)   \n",
              "4  Greenwich, CT\\n(41.026526, -73.628549)   \n",
              "\n",
              "                          ResidenceCityGeo                InjuryCityGeo  \n",
              "0              CT\\n(41.575155, -72.738288)  CT\\n(41.575155, -72.738288)  \n",
              "1      NORWALK, CT\\n(41.11805, -73.412906)  CT\\n(41.575155, -72.738288)  \n",
              "2  SANDY HOOK, CT\\n(41.419998, -73.282501)                          NaN  \n",
              "3                                      NaN                          NaN  \n",
              "4                                      NaN  CT\\n(41.575155, -72.738288)  "
            ]
          },
          "metadata": {},
          "execution_count": 126
        }
      ]
    },
    {
      "cell_type": "markdown",
      "metadata": {
        "id": "kqkTMZHE4Qfj"
      },
      "source": [
        "##Extracción de datos"
      ]
    },
    {
      "cell_type": "markdown",
      "metadata": {
        "id": "gWyMxJwo-e-7"
      },
      "source": [
        "###Lista de columnas donde se obtendrá los datos."
      ]
    },
    {
      "cell_type": "code",
      "metadata": {
        "id": "Xs4vbFk64TlP"
      },
      "source": [
        "lista_columnas = ['ID','Date','Age','Sex','Race','Heroin','Cocaine','Fentanyl','Oxycodone','Oxymorphone','Ethanol','Hydrocodone','Benzodiazepine','Methadone','Methadone','Amphet','Tramad','Morphine_NotHeroin','Hydromorphone']"
      ],
      "execution_count": 144,
      "outputs": []
    },
    {
      "cell_type": "markdown",
      "metadata": {
        "id": "v8PEgB6G-lnj"
      },
      "source": [
        "###Nuevo Dataframe con la información relevante."
      ]
    },
    {
      "cell_type": "code",
      "metadata": {
        "id": "MFlNSsbk5gzA"
      },
      "source": [
        "df_muertes = data_muertes[lista_columnas]"
      ],
      "execution_count": 145,
      "outputs": []
    },
    {
      "cell_type": "code",
      "metadata": {
        "colab": {
          "base_uri": "https://localhost:8080/",
          "height": 391
        },
        "id": "ZGLw_3ZK5lD5",
        "outputId": "7ed67c3b-8379-4e61-ea2f-b952f399baa8"
      },
      "source": [
        "df_muertes.head()"
      ],
      "execution_count": 146,
      "outputs": [
        {
          "output_type": "execute_result",
          "data": {
            "text/html": [
              "<div>\n",
              "<style scoped>\n",
              "    .dataframe tbody tr th:only-of-type {\n",
              "        vertical-align: middle;\n",
              "    }\n",
              "\n",
              "    .dataframe tbody tr th {\n",
              "        vertical-align: top;\n",
              "    }\n",
              "\n",
              "    .dataframe thead th {\n",
              "        text-align: right;\n",
              "    }\n",
              "</style>\n",
              "<table border=\"1\" class=\"dataframe\">\n",
              "  <thead>\n",
              "    <tr style=\"text-align: right;\">\n",
              "      <th></th>\n",
              "      <th>ID</th>\n",
              "      <th>Date</th>\n",
              "      <th>Age</th>\n",
              "      <th>Sex</th>\n",
              "      <th>Race</th>\n",
              "      <th>Heroin</th>\n",
              "      <th>Cocaine</th>\n",
              "      <th>Fentanyl</th>\n",
              "      <th>Oxycodone</th>\n",
              "      <th>Oxymorphone</th>\n",
              "      <th>Ethanol</th>\n",
              "      <th>Hydrocodone</th>\n",
              "      <th>Benzodiazepine</th>\n",
              "      <th>Methadone</th>\n",
              "      <th>Methadone</th>\n",
              "      <th>Amphet</th>\n",
              "      <th>Tramad</th>\n",
              "      <th>Morphine_NotHeroin</th>\n",
              "      <th>Hydromorphone</th>\n",
              "    </tr>\n",
              "  </thead>\n",
              "  <tbody>\n",
              "    <tr>\n",
              "      <th>0</th>\n",
              "      <td>14-0273</td>\n",
              "      <td>06/28/2014 12:00:00 AM</td>\n",
              "      <td>NaN</td>\n",
              "      <td>NaN</td>\n",
              "      <td>NaN</td>\n",
              "      <td>0</td>\n",
              "      <td>0</td>\n",
              "      <td>1</td>\n",
              "      <td>0</td>\n",
              "      <td>0</td>\n",
              "      <td>0</td>\n",
              "      <td>1</td>\n",
              "      <td>1</td>\n",
              "      <td>0</td>\n",
              "      <td>0</td>\n",
              "      <td>0</td>\n",
              "      <td>0</td>\n",
              "      <td>0</td>\n",
              "      <td>0</td>\n",
              "    </tr>\n",
              "    <tr>\n",
              "      <th>1</th>\n",
              "      <td>13-0102</td>\n",
              "      <td>03/21/2013 12:00:00 AM</td>\n",
              "      <td>48.0</td>\n",
              "      <td>Male</td>\n",
              "      <td>Black</td>\n",
              "      <td>0</td>\n",
              "      <td>1</td>\n",
              "      <td>0</td>\n",
              "      <td>0</td>\n",
              "      <td>0</td>\n",
              "      <td>0</td>\n",
              "      <td>0</td>\n",
              "      <td>0</td>\n",
              "      <td>0</td>\n",
              "      <td>0</td>\n",
              "      <td>0</td>\n",
              "      <td>0</td>\n",
              "      <td>0</td>\n",
              "      <td>0</td>\n",
              "    </tr>\n",
              "    <tr>\n",
              "      <th>2</th>\n",
              "      <td>16-0165</td>\n",
              "      <td>03/13/2016 12:00:00 AM</td>\n",
              "      <td>30.0</td>\n",
              "      <td>Female</td>\n",
              "      <td>White</td>\n",
              "      <td>1</td>\n",
              "      <td>1</td>\n",
              "      <td>0</td>\n",
              "      <td>0</td>\n",
              "      <td>0</td>\n",
              "      <td>0</td>\n",
              "      <td>0</td>\n",
              "      <td>0</td>\n",
              "      <td>0</td>\n",
              "      <td>0</td>\n",
              "      <td>0</td>\n",
              "      <td>0</td>\n",
              "      <td>0</td>\n",
              "      <td>0</td>\n",
              "    </tr>\n",
              "    <tr>\n",
              "      <th>3</th>\n",
              "      <td>16-0208</td>\n",
              "      <td>03/31/2016 12:00:00 AM</td>\n",
              "      <td>23.0</td>\n",
              "      <td>Male</td>\n",
              "      <td>White</td>\n",
              "      <td>1</td>\n",
              "      <td>0</td>\n",
              "      <td>1</td>\n",
              "      <td>0</td>\n",
              "      <td>0</td>\n",
              "      <td>0</td>\n",
              "      <td>0</td>\n",
              "      <td>0</td>\n",
              "      <td>0</td>\n",
              "      <td>0</td>\n",
              "      <td>0</td>\n",
              "      <td>0</td>\n",
              "      <td>0</td>\n",
              "      <td>0</td>\n",
              "    </tr>\n",
              "    <tr>\n",
              "      <th>4</th>\n",
              "      <td>13-0052</td>\n",
              "      <td>02/13/2013 12:00:00 AM</td>\n",
              "      <td>22.0</td>\n",
              "      <td>Male</td>\n",
              "      <td>Asian, Other</td>\n",
              "      <td>0</td>\n",
              "      <td>0</td>\n",
              "      <td>1</td>\n",
              "      <td>0</td>\n",
              "      <td>0</td>\n",
              "      <td>0</td>\n",
              "      <td>0</td>\n",
              "      <td>0</td>\n",
              "      <td>0</td>\n",
              "      <td>0</td>\n",
              "      <td>0</td>\n",
              "      <td>0</td>\n",
              "      <td>0</td>\n",
              "      <td>0</td>\n",
              "    </tr>\n",
              "  </tbody>\n",
              "</table>\n",
              "</div>"
            ],
            "text/plain": [
              "        ID                    Date   Age     Sex          Race  Heroin  \\\n",
              "0  14-0273  06/28/2014 12:00:00 AM   NaN     NaN           NaN       0   \n",
              "1  13-0102  03/21/2013 12:00:00 AM  48.0    Male         Black       0   \n",
              "2  16-0165  03/13/2016 12:00:00 AM  30.0  Female         White       1   \n",
              "3  16-0208  03/31/2016 12:00:00 AM  23.0    Male         White       1   \n",
              "4  13-0052  02/13/2013 12:00:00 AM  22.0    Male  Asian, Other       0   \n",
              "\n",
              "   Cocaine Fentanyl  Oxycodone  Oxymorphone  Ethanol  Hydrocodone  \\\n",
              "0        0        1          0            0        0            1   \n",
              "1        1        0          0            0        0            0   \n",
              "2        1        0          0            0        0            0   \n",
              "3        0        1          0            0        0            0   \n",
              "4        0        1          0            0        0            0   \n",
              "\n",
              "   Benzodiazepine  Methadone  Methadone  Amphet  Tramad Morphine_NotHeroin  \\\n",
              "0               1          0          0       0       0                  0   \n",
              "1               0          0          0       0       0                  0   \n",
              "2               0          0          0       0       0                  0   \n",
              "3               0          0          0       0       0                  0   \n",
              "4               0          0          0       0       0                  0   \n",
              "\n",
              "   Hydromorphone  \n",
              "0              0  \n",
              "1              0  \n",
              "2              0  \n",
              "3              0  \n",
              "4              0  "
            ]
          },
          "metadata": {},
          "execution_count": 146
        }
      ]
    },
    {
      "cell_type": "markdown",
      "metadata": {
        "id": "uua34qmu_QYz"
      },
      "source": [
        "##Limpieza de datos"
      ]
    },
    {
      "cell_type": "markdown",
      "metadata": {
        "id": "mmmH9ChC-rk6"
      },
      "source": [
        "###Identificar si hay filas con elementos nulos."
      ]
    },
    {
      "cell_type": "code",
      "metadata": {
        "id": "gctGjEDD-B8Z"
      },
      "source": [
        "is_NaN = df_muertes.isnull()\n",
        "row_has_NaN = is_NaN.any(axis=1)\n",
        "rows_with_NaN = df_muertes[row_has_NaN]"
      ],
      "execution_count": 147,
      "outputs": []
    },
    {
      "cell_type": "code",
      "metadata": {
        "colab": {
          "base_uri": "https://localhost:8080/"
        },
        "id": "A-GrTlWU-NSZ",
        "outputId": "46087ee2-82f0-4185-af4c-d1ff4aa7d844"
      },
      "source": [
        "rows_with_NaN.shape[0]"
      ],
      "execution_count": 148,
      "outputs": [
        {
          "output_type": "execute_result",
          "data": {
            "text/plain": [
              "17"
            ]
          },
          "metadata": {},
          "execution_count": 148
        }
      ]
    },
    {
      "cell_type": "markdown",
      "metadata": {
        "id": "AyoJbNQ0A5xt"
      },
      "source": [
        "###Limpiar el Dataframe de todas las final con nulos."
      ]
    },
    {
      "cell_type": "code",
      "metadata": {
        "id": "8-EgO-Pk_8Kh"
      },
      "source": [
        "df_muertes = df_muertes.dropna()"
      ],
      "execution_count": 149,
      "outputs": []
    },
    {
      "cell_type": "code",
      "metadata": {
        "colab": {
          "base_uri": "https://localhost:8080/",
          "height": 391
        },
        "id": "KKEsnSw4BDDv",
        "outputId": "9346e445-501c-4cd1-b22d-035b868171e6"
      },
      "source": [
        "df_muertes.head()"
      ],
      "execution_count": 150,
      "outputs": [
        {
          "output_type": "execute_result",
          "data": {
            "text/html": [
              "<div>\n",
              "<style scoped>\n",
              "    .dataframe tbody tr th:only-of-type {\n",
              "        vertical-align: middle;\n",
              "    }\n",
              "\n",
              "    .dataframe tbody tr th {\n",
              "        vertical-align: top;\n",
              "    }\n",
              "\n",
              "    .dataframe thead th {\n",
              "        text-align: right;\n",
              "    }\n",
              "</style>\n",
              "<table border=\"1\" class=\"dataframe\">\n",
              "  <thead>\n",
              "    <tr style=\"text-align: right;\">\n",
              "      <th></th>\n",
              "      <th>ID</th>\n",
              "      <th>Date</th>\n",
              "      <th>Age</th>\n",
              "      <th>Sex</th>\n",
              "      <th>Race</th>\n",
              "      <th>Heroin</th>\n",
              "      <th>Cocaine</th>\n",
              "      <th>Fentanyl</th>\n",
              "      <th>Oxycodone</th>\n",
              "      <th>Oxymorphone</th>\n",
              "      <th>Ethanol</th>\n",
              "      <th>Hydrocodone</th>\n",
              "      <th>Benzodiazepine</th>\n",
              "      <th>Methadone</th>\n",
              "      <th>Methadone</th>\n",
              "      <th>Amphet</th>\n",
              "      <th>Tramad</th>\n",
              "      <th>Morphine_NotHeroin</th>\n",
              "      <th>Hydromorphone</th>\n",
              "    </tr>\n",
              "  </thead>\n",
              "  <tbody>\n",
              "    <tr>\n",
              "      <th>1</th>\n",
              "      <td>13-0102</td>\n",
              "      <td>03/21/2013 12:00:00 AM</td>\n",
              "      <td>48.0</td>\n",
              "      <td>Male</td>\n",
              "      <td>Black</td>\n",
              "      <td>0</td>\n",
              "      <td>1</td>\n",
              "      <td>0</td>\n",
              "      <td>0</td>\n",
              "      <td>0</td>\n",
              "      <td>0</td>\n",
              "      <td>0</td>\n",
              "      <td>0</td>\n",
              "      <td>0</td>\n",
              "      <td>0</td>\n",
              "      <td>0</td>\n",
              "      <td>0</td>\n",
              "      <td>0</td>\n",
              "      <td>0</td>\n",
              "    </tr>\n",
              "    <tr>\n",
              "      <th>2</th>\n",
              "      <td>16-0165</td>\n",
              "      <td>03/13/2016 12:00:00 AM</td>\n",
              "      <td>30.0</td>\n",
              "      <td>Female</td>\n",
              "      <td>White</td>\n",
              "      <td>1</td>\n",
              "      <td>1</td>\n",
              "      <td>0</td>\n",
              "      <td>0</td>\n",
              "      <td>0</td>\n",
              "      <td>0</td>\n",
              "      <td>0</td>\n",
              "      <td>0</td>\n",
              "      <td>0</td>\n",
              "      <td>0</td>\n",
              "      <td>0</td>\n",
              "      <td>0</td>\n",
              "      <td>0</td>\n",
              "      <td>0</td>\n",
              "    </tr>\n",
              "    <tr>\n",
              "      <th>3</th>\n",
              "      <td>16-0208</td>\n",
              "      <td>03/31/2016 12:00:00 AM</td>\n",
              "      <td>23.0</td>\n",
              "      <td>Male</td>\n",
              "      <td>White</td>\n",
              "      <td>1</td>\n",
              "      <td>0</td>\n",
              "      <td>1</td>\n",
              "      <td>0</td>\n",
              "      <td>0</td>\n",
              "      <td>0</td>\n",
              "      <td>0</td>\n",
              "      <td>0</td>\n",
              "      <td>0</td>\n",
              "      <td>0</td>\n",
              "      <td>0</td>\n",
              "      <td>0</td>\n",
              "      <td>0</td>\n",
              "      <td>0</td>\n",
              "    </tr>\n",
              "    <tr>\n",
              "      <th>4</th>\n",
              "      <td>13-0052</td>\n",
              "      <td>02/13/2013 12:00:00 AM</td>\n",
              "      <td>22.0</td>\n",
              "      <td>Male</td>\n",
              "      <td>Asian, Other</td>\n",
              "      <td>0</td>\n",
              "      <td>0</td>\n",
              "      <td>1</td>\n",
              "      <td>0</td>\n",
              "      <td>0</td>\n",
              "      <td>0</td>\n",
              "      <td>0</td>\n",
              "      <td>0</td>\n",
              "      <td>0</td>\n",
              "      <td>0</td>\n",
              "      <td>0</td>\n",
              "      <td>0</td>\n",
              "      <td>0</td>\n",
              "      <td>0</td>\n",
              "    </tr>\n",
              "    <tr>\n",
              "      <th>5</th>\n",
              "      <td>14-0277</td>\n",
              "      <td>06/29/2014 12:00:00 AM</td>\n",
              "      <td>23.0</td>\n",
              "      <td>Male</td>\n",
              "      <td>White</td>\n",
              "      <td>1</td>\n",
              "      <td>0</td>\n",
              "      <td>0</td>\n",
              "      <td>0</td>\n",
              "      <td>0</td>\n",
              "      <td>0</td>\n",
              "      <td>0</td>\n",
              "      <td>0</td>\n",
              "      <td>0</td>\n",
              "      <td>0</td>\n",
              "      <td>0</td>\n",
              "      <td>0</td>\n",
              "      <td>0</td>\n",
              "      <td>0</td>\n",
              "    </tr>\n",
              "  </tbody>\n",
              "</table>\n",
              "</div>"
            ],
            "text/plain": [
              "        ID                    Date   Age     Sex          Race  Heroin  \\\n",
              "1  13-0102  03/21/2013 12:00:00 AM  48.0    Male         Black       0   \n",
              "2  16-0165  03/13/2016 12:00:00 AM  30.0  Female         White       1   \n",
              "3  16-0208  03/31/2016 12:00:00 AM  23.0    Male         White       1   \n",
              "4  13-0052  02/13/2013 12:00:00 AM  22.0    Male  Asian, Other       0   \n",
              "5  14-0277  06/29/2014 12:00:00 AM  23.0    Male         White       1   \n",
              "\n",
              "   Cocaine Fentanyl  Oxycodone  Oxymorphone  Ethanol  Hydrocodone  \\\n",
              "1        1        0          0            0        0            0   \n",
              "2        1        0          0            0        0            0   \n",
              "3        0        1          0            0        0            0   \n",
              "4        0        1          0            0        0            0   \n",
              "5        0        0          0            0        0            0   \n",
              "\n",
              "   Benzodiazepine  Methadone  Methadone  Amphet  Tramad Morphine_NotHeroin  \\\n",
              "1               0          0          0       0       0                  0   \n",
              "2               0          0          0       0       0                  0   \n",
              "3               0          0          0       0       0                  0   \n",
              "4               0          0          0       0       0                  0   \n",
              "5               0          0          0       0       0                  0   \n",
              "\n",
              "   Hydromorphone  \n",
              "1              0  \n",
              "2              0  \n",
              "3              0  \n",
              "4              0  \n",
              "5              0  "
            ]
          },
          "metadata": {},
          "execution_count": 150
        }
      ]
    },
    {
      "cell_type": "markdown",
      "metadata": {
        "id": "de7xprpuHyF4"
      },
      "source": [
        "###Eliminar filas con valores que no aportan información."
      ]
    },
    {
      "cell_type": "markdown",
      "metadata": {
        "id": "kWVhDpWyLGTR"
      },
      "source": [
        "####Columna Sex"
      ]
    },
    {
      "cell_type": "code",
      "metadata": {
        "colab": {
          "base_uri": "https://localhost:8080/"
        },
        "id": "8aXopFYYG3qT",
        "outputId": "860bd16c-e21b-4aa6-e875-bc65cdba6c83"
      },
      "source": [
        "df_muertes.groupby([\"Sex\"]).size()"
      ],
      "execution_count": 151,
      "outputs": [
        {
          "output_type": "execute_result",
          "data": {
            "text/plain": [
              "Sex\n",
              "Female     1320\n",
              "Male       3767\n",
              "Unknown       1\n",
              "dtype: int64"
            ]
          },
          "metadata": {},
          "execution_count": 151
        }
      ]
    },
    {
      "cell_type": "code",
      "metadata": {
        "id": "DUqB0TjxLDcl"
      },
      "source": [
        "df_muertes = df_muertes[df_muertes.Sex != \"Unknown\"]"
      ],
      "execution_count": 152,
      "outputs": []
    },
    {
      "cell_type": "markdown",
      "metadata": {
        "id": "haZM_gseLnKS"
      },
      "source": [
        "####Columna Race"
      ]
    },
    {
      "cell_type": "code",
      "metadata": {
        "colab": {
          "base_uri": "https://localhost:8080/"
        },
        "id": "nq1HUdpaLZKK",
        "outputId": "a564e2ca-853c-4d57-d8f9-a64d199fb3d1"
      },
      "source": [
        "df_muertes.groupby([\"Race\"]).size()"
      ],
      "execution_count": 153,
      "outputs": [
        {
          "output_type": "execute_result",
          "data": {
            "text/plain": [
              "Race\n",
              "Asian Indian                14\n",
              "Asian, Other                18\n",
              "Black                      433\n",
              "Chinese                      2\n",
              "Hawaiian                     1\n",
              "Hispanic, Black             24\n",
              "Hispanic, White            560\n",
              "Native American, Other       1\n",
              "Other                       11\n",
              "Unknown                     23\n",
              "White                     4000\n",
              "dtype: int64"
            ]
          },
          "metadata": {},
          "execution_count": 153
        }
      ]
    },
    {
      "cell_type": "code",
      "metadata": {
        "id": "kd1yb_wtLtdV"
      },
      "source": [
        "df_muertes = df_muertes[df_muertes.Race != \"Other\"]\n",
        "df_muertes = df_muertes[df_muertes.Race != \"Unknown\"]"
      ],
      "execution_count": 154,
      "outputs": []
    },
    {
      "cell_type": "markdown",
      "metadata": {
        "id": "yJ5zRqIHM72A"
      },
      "source": [
        "##Transformar datos"
      ]
    },
    {
      "cell_type": "markdown",
      "metadata": {
        "id": "OX3bicKiaF__"
      },
      "source": [
        "###Agrupar etiquetas"
      ]
    },
    {
      "cell_type": "markdown",
      "metadata": {
        "id": "z8Hy1NhiTGIs"
      },
      "source": [
        "El objetivo es agrupar etiquetas similares, por ejemplo, Hispanic Black 👨🏿 y Hispanic White 👨🏻 en una sola etiqueta Hispanic. "
      ]
    },
    {
      "cell_type": "code",
      "metadata": {
        "colab": {
          "base_uri": "https://localhost:8080/"
        },
        "id": "FG5ZpZ95Tz3t",
        "outputId": "74fd9398-46f5-4360-f436-87be4c1cbe71"
      },
      "source": [
        "df_muertes.groupby([\"Race\"]).size()"
      ],
      "execution_count": 155,
      "outputs": [
        {
          "output_type": "execute_result",
          "data": {
            "text/plain": [
              "Race\n",
              "Asian Indian                14\n",
              "Asian, Other                18\n",
              "Black                      433\n",
              "Chinese                      2\n",
              "Hawaiian                     1\n",
              "Hispanic, Black             24\n",
              "Hispanic, White            560\n",
              "Native American, Other       1\n",
              "White                     4000\n",
              "dtype: int64"
            ]
          },
          "metadata": {},
          "execution_count": 155
        }
      ]
    },
    {
      "cell_type": "code",
      "metadata": {
        "id": "FC5ayEGdZCzv"
      },
      "source": [
        "df_muertes = df_muertes.replace('Hispanic, Black','Hispanic')\n",
        "df_muertes = df_muertes.replace('Hispanic, White','Hispanic')\n",
        "df_muertes = df_muertes.replace('Asian Indian','Asian')\n",
        "df_muertes = df_muertes.replace('Asian, Other','Asian')\n",
        "df_muertes = df_muertes.replace('Chinese','Asian')"
      ],
      "execution_count": 157,
      "outputs": []
    },
    {
      "cell_type": "code",
      "metadata": {
        "colab": {
          "base_uri": "https://localhost:8080/"
        },
        "id": "BxBHRBhLZxwA",
        "outputId": "68e676d1-7051-435b-9921-e8c11abf017c"
      },
      "source": [
        "df_muertes.groupby([\"Race\"]).size()"
      ],
      "execution_count": 158,
      "outputs": [
        {
          "output_type": "execute_result",
          "data": {
            "text/plain": [
              "Race\n",
              "Asian                       34\n",
              "Black                      433\n",
              "Hawaiian                     1\n",
              "Hispanic                   584\n",
              "Native American, Other       1\n",
              "White                     4000\n",
              "dtype: int64"
            ]
          },
          "metadata": {},
          "execution_count": 158
        }
      ]
    },
    {
      "cell_type": "markdown",
      "metadata": {
        "id": "hh2IrmO2apKX"
      },
      "source": [
        "##Guardar archivo CSV"
      ]
    },
    {
      "cell_type": "code",
      "metadata": {
        "id": "wNmPuhW9as0i"
      },
      "source": [
        "df_muertes.to_csv('data_final.csv')\n",
        "!cp data_final.csv \"drive/My Drive/Colab Notebooks/BDA/\""
      ],
      "execution_count": 159,
      "outputs": []
    }
  ]
}